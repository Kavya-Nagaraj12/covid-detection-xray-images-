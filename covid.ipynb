{
  "nbformat": 4,
  "nbformat_minor": 0,
  "metadata": {
    "colab": {
      "name": "covid.ipynb",
      "provenance": [],
      "collapsed_sections": []
    },
    "kernelspec": {
      "name": "python3",
      "display_name": "Python 3"
    },
    "language_info": {
      "name": "python"
    },
    "accelerator": "GPU"
  },
  "cells": [
    {
      "cell_type": "code",
      "metadata": {
        "id": "S1yp5nT5v7Uj"
      },
      "source": [
        " import numpy as np\n",
        " import matplotlib.pyplot as plt\n",
        " from keras.layers import Dense,Conv2D,MaxPool2D,Dropout,Flatten\n",
        " from keras.models import Sequential\n",
        " from keras.preprocessing import image"
      ],
      "execution_count": 1,
      "outputs": []
    },
    {
      "cell_type": "markdown",
      "metadata": {
        "id": "XqrqcuJLtDmV"
      },
      "source": [
        " "
      ]
    },
    {
      "cell_type": "code",
      "metadata": {
        "colab": {
          "base_uri": "https://localhost:8080/"
        },
        "id": "_lhS7NuooMyk",
        "outputId": "aa976bb4-2fb2-4f37-931d-7bb6e5d05fdd"
      },
      "source": [
        "train_datagen = image.ImageDataGenerator(\n",
        "    rescale = 1/255, horizontal_flip = True, zoom_range = 0.2, shear_range = 0.2\n",
        ")\n",
        "train_data = train_datagen.flow_from_directory(directory=\"/content/drive/MyDrive/coviddataset/Dataset/Train\",target_size = (256,256), batch_size = 16,\n",
        "                                               class_mode ='binary')"
      ],
      "execution_count": 2,
      "outputs": [
        {
          "output_type": "stream",
          "text": [
            "Found 288 images belonging to 2 classes.\n"
          ],
          "name": "stdout"
        }
      ]
    },
    {
      "cell_type": "code",
      "metadata": {
        "id": "gmSoQSCmFnbT",
        "colab": {
          "base_uri": "https://localhost:8080/"
        },
        "outputId": "efd514c9-3f14-4def-ba66-05d32b212768"
      },
      "source": [
        "train_data.class_indices"
      ],
      "execution_count": 3,
      "outputs": [
        {
          "output_type": "execute_result",
          "data": {
            "text/plain": [
              "{'Covid': 0, 'Normal': 1}"
            ]
          },
          "metadata": {
            "tags": []
          },
          "execution_count": 3
        }
      ]
    },
    {
      "cell_type": "code",
      "metadata": {
        "id": "DW1uh1VnFyPu",
        "colab": {
          "base_uri": "https://localhost:8080/"
        },
        "outputId": "cbd58434-cc54-43a3-f825-649613feb74e"
      },
      "source": [
        "test_datagen = image.ImageDataGenerator(\n",
        "    rescale = 1/255, horizontal_flip = True, zoom_range = 0.2, shear_range = 0.2\n",
        ")\n",
        "test_data = test_datagen.flow_from_directory(directory=\"/content/drive/MyDrive/coviddataset/Dataset/Val\",target_size = (256,256), batch_size = 16,\n",
        "                                               class_mode ='binary')"
      ],
      "execution_count": 4,
      "outputs": [
        {
          "output_type": "stream",
          "text": [
            "Found 60 images belonging to 2 classes.\n"
          ],
          "name": "stdout"
        }
      ]
    },
    {
      "cell_type": "code",
      "metadata": {
        "id": "plBKzs_gGIqE"
      },
      "source": [
        "from tensorflow import keras\n",
        "model = Sequential()\n",
        "model.add(Conv2D(filters = 32, kernel_size=(3,3), activation ='relu',input_shape =(256,256,3)))\n",
        "model.add(Conv2D(filters=64, kernel_size=(3,3), activation='relu'))\n",
        "model.add(MaxPool2D())\n",
        "model.add(Dropout(rate = 0.25))\n",
        "\n",
        "\n",
        "model.add(Conv2D(filters=64, kernel_size=(3,3), activation='relu'))\n",
        "model.add(MaxPool2D())\n",
        "model.add(Dropout(rate = 0.25))\n",
        "\n",
        "\n",
        "model.add(Conv2D(filters=128, kernel_size=(3,3), activation='relu'))\n",
        "model.add(MaxPool2D())\n",
        "model.add(Dropout(rate = 0.25))\n",
        "\n",
        "model.add(Flatten())\n",
        "model.add(Dense(units = 64,activation = 'relu'))\n",
        "model.add(Dropout(rate = 0.50))\n",
        "model.add(Dense(units = 1, activation ='sigmoid'))\n",
        "\n",
        "model.compile(loss=keras.losses.binary_crossentropy,optimizer =\"adam\",metrics =['acc'])\n",
        "\n",
        "\n"
      ],
      "execution_count": 5,
      "outputs": []
    },
    {
      "cell_type": "code",
      "metadata": {
        "id": "Mj49yZ9EJh6z",
        "colab": {
          "base_uri": "https://localhost:8080/"
        },
        "outputId": "147dc9ab-c204-4597-f491-bc8c98392820"
      },
      "source": [
        "model.summary()"
      ],
      "execution_count": 6,
      "outputs": [
        {
          "output_type": "stream",
          "text": [
            "Model: \"sequential\"\n",
            "_________________________________________________________________\n",
            "Layer (type)                 Output Shape              Param #   \n",
            "=================================================================\n",
            "conv2d (Conv2D)              (None, 254, 254, 32)      896       \n",
            "_________________________________________________________________\n",
            "conv2d_1 (Conv2D)            (None, 252, 252, 64)      18496     \n",
            "_________________________________________________________________\n",
            "max_pooling2d (MaxPooling2D) (None, 126, 126, 64)      0         \n",
            "_________________________________________________________________\n",
            "dropout (Dropout)            (None, 126, 126, 64)      0         \n",
            "_________________________________________________________________\n",
            "conv2d_2 (Conv2D)            (None, 124, 124, 64)      36928     \n",
            "_________________________________________________________________\n",
            "max_pooling2d_1 (MaxPooling2 (None, 62, 62, 64)        0         \n",
            "_________________________________________________________________\n",
            "dropout_1 (Dropout)          (None, 62, 62, 64)        0         \n",
            "_________________________________________________________________\n",
            "conv2d_3 (Conv2D)            (None, 60, 60, 128)       73856     \n",
            "_________________________________________________________________\n",
            "max_pooling2d_2 (MaxPooling2 (None, 30, 30, 128)       0         \n",
            "_________________________________________________________________\n",
            "dropout_2 (Dropout)          (None, 30, 30, 128)       0         \n",
            "_________________________________________________________________\n",
            "flatten (Flatten)            (None, 115200)            0         \n",
            "_________________________________________________________________\n",
            "dense (Dense)                (None, 64)                7372864   \n",
            "_________________________________________________________________\n",
            "dropout_3 (Dropout)          (None, 64)                0         \n",
            "_________________________________________________________________\n",
            "dense_1 (Dense)              (None, 1)                 65        \n",
            "=================================================================\n",
            "Total params: 7,503,105\n",
            "Trainable params: 7,503,105\n",
            "Non-trainable params: 0\n",
            "_________________________________________________________________\n"
          ],
          "name": "stdout"
        }
      ]
    },
    {
      "cell_type": "code",
      "metadata": {
        "id": "qZ-47pc_sxrm"
      },
      "source": [
        ""
      ],
      "execution_count": 6,
      "outputs": []
    },
    {
      "cell_type": "code",
      "metadata": {
        "id": "e5b8e6DvJoz5",
        "colab": {
          "base_uri": "https://localhost:8080/"
        },
        "outputId": "25ab6d6c-15e9-4e89-9709-106c8b585fe0"
      },
      "source": [
        " model.fit_generator(train_data,steps_per_epoch=8,epochs=10,validation_steps=2,validation_data=test_data)"
      ],
      "execution_count": 7,
      "outputs": [
        {
          "output_type": "stream",
          "text": [
            "/usr/local/lib/python3.7/dist-packages/keras/engine/training.py:1915: UserWarning: `Model.fit_generator` is deprecated and will be removed in a future version. Please use `Model.fit`, which supports generators.\n",
            "  warnings.warn('`Model.fit_generator` is deprecated and '\n"
          ],
          "name": "stderr"
        },
        {
          "output_type": "stream",
          "text": [
            "Epoch 1/10\n",
            "8/8 [==============================] - 115s 9s/step - loss: 0.8003 - acc: 0.6636 - val_loss: 0.6344 - val_acc: 0.8750\n",
            "Epoch 2/10\n",
            "8/8 [==============================] - 45s 6s/step - loss: 0.5409 - acc: 0.7339 - val_loss: 0.4563 - val_acc: 0.9375\n",
            "Epoch 3/10\n",
            "8/8 [==============================] - 24s 3s/step - loss: 0.3980 - acc: 0.8383 - val_loss: 0.4513 - val_acc: 0.8750\n",
            "Epoch 4/10\n",
            "8/8 [==============================] - 13s 2s/step - loss: 0.2610 - acc: 0.9288 - val_loss: 0.2454 - val_acc: 0.9062\n",
            "Epoch 5/10\n",
            "8/8 [==============================] - 11s 1s/step - loss: 0.2622 - acc: 0.8948 - val_loss: 0.2105 - val_acc: 0.9375\n",
            "Epoch 6/10\n",
            "8/8 [==============================] - 10s 1s/step - loss: 0.1956 - acc: 0.8810 - val_loss: 0.1548 - val_acc: 0.9688\n",
            "Epoch 7/10\n",
            "8/8 [==============================] - 10s 1s/step - loss: 0.1618 - acc: 0.8917 - val_loss: 0.1294 - val_acc: 0.9375\n",
            "Epoch 8/10\n",
            "8/8 [==============================] - 9s 1s/step - loss: 0.6436 - acc: 0.8950 - val_loss: 0.2621 - val_acc: 0.9062\n",
            "Epoch 9/10\n",
            "8/8 [==============================] - 7s 943ms/step - loss: 0.2309 - acc: 0.9007 - val_loss: 0.1315 - val_acc: 0.9375\n",
            "Epoch 10/10\n",
            "8/8 [==============================] - 7s 963ms/step - loss: 0.2569 - acc: 0.8977 - val_loss: 0.2861 - val_acc: 0.9688\n"
          ],
          "name": "stdout"
        },
        {
          "output_type": "execute_result",
          "data": {
            "text/plain": [
              "<keras.callbacks.History at 0x7f0cb9ed5950>"
            ]
          },
          "metadata": {
            "tags": []
          },
          "execution_count": 7
        }
      ]
    },
    {
      "cell_type": "code",
      "metadata": {
        "id": "-giA7p9_KpeO",
        "colab": {
          "base_uri": "https://localhost:8080/"
        },
        "outputId": "3e281c14-1c9d-48b1-94a4-2f0f718a1430"
      },
      "source": [
        "path = \"/content/drive/MyDrive/coviddataset/Dataset/Val/Covid/16654_1_1.png\"\n",
        "img =image.load_img(path,target_size=(256,256))\n",
        "img = image.img_to_array(img)/255\n",
        "img = np.array([img])\n",
        "img.shape"
      ],
      "execution_count": 10,
      "outputs": [
        {
          "output_type": "execute_result",
          "data": {
            "text/plain": [
              "(1, 256, 256, 3)"
            ]
          },
          "metadata": {
            "tags": []
          },
          "execution_count": 10
        }
      ]
    },
    {
      "cell_type": "code",
      "metadata": {
        "colab": {
          "base_uri": "https://localhost:8080/"
        },
        "id": "Uu21wU5pqviu",
        "outputId": "afb938cd-cd64-4df4-9253-15d9786caf3f"
      },
      "source": [
        "model.predict_classes(img)"
      ],
      "execution_count": 11,
      "outputs": [
        {
          "output_type": "stream",
          "text": [
            "/usr/local/lib/python3.7/dist-packages/keras/engine/sequential.py:450: UserWarning: `model.predict_classes()` is deprecated and will be removed after 2021-01-01. Please use instead:* `np.argmax(model.predict(x), axis=-1)`,   if your model does multi-class classification   (e.g. if it uses a `softmax` last-layer activation).* `(model.predict(x) > 0.5).astype(\"int32\")`,   if your model does binary classification   (e.g. if it uses a `sigmoid` last-layer activation).\n",
            "  warnings.warn('`model.predict_classes()` is deprecated and '\n"
          ],
          "name": "stderr"
        },
        {
          "output_type": "execute_result",
          "data": {
            "text/plain": [
              "array([[0]], dtype=int32)"
            ]
          },
          "metadata": {
            "tags": []
          },
          "execution_count": 11
        }
      ]
    }
  ]
}